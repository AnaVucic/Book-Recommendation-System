{
 "cells": [
  {
   "cell_type": "code",
   "execution_count": 6,
   "id": "f4ba1649",
   "metadata": {},
   "outputs": [],
   "source": [
    "import pandas as pd\n",
    "import numpy as np\n",
    "import math\n",
    "import warnings\n",
    "\n",
    "pd.options.display.max_rows = 999\n",
    "warnings.filterwarnings(\"ignore\")"
   ]
  },
  {
   "cell_type": "markdown",
   "id": "aeccf5bf",
   "metadata": {},
   "source": [
    "## Books Data set"
   ]
  },
  {
   "cell_type": "code",
   "execution_count": 7,
   "id": "8f6272bb",
   "metadata": {
    "scrolled": true
   },
   "outputs": [
    {
     "name": "stdout",
     "output_type": "stream",
     "text": [
      "<class 'pandas.core.frame.DataFrame'>\n",
      "RangeIndex: 212404 entries, 0 to 212403\n",
      "Data columns (total 10 columns):\n",
      " #   Column         Non-Null Count   Dtype  \n",
      "---  ------         --------------   -----  \n",
      " 0   Title          212403 non-null  object \n",
      " 1   description    143962 non-null  object \n",
      " 2   authors        180991 non-null  object \n",
      " 3   image          160329 non-null  object \n",
      " 4   previewLink    188568 non-null  object \n",
      " 5   publisher      136518 non-null  object \n",
      " 6   publishedDate  187099 non-null  object \n",
      " 7   infoLink       188568 non-null  object \n",
      " 8   categories     171205 non-null  object \n",
      " 9   ratingsCount   49752 non-null   float64\n",
      "dtypes: float64(1), object(9)\n",
      "memory usage: 16.2+ MB\n"
     ]
    }
   ],
   "source": [
    "books = pd.read_csv('books_data.csv')\n",
    "books.info()"
   ]
  },
  {
   "cell_type": "markdown",
   "id": "a2c53f72",
   "metadata": {},
   "source": [
    "#### Features image, previewLink, publisher, publishedDate and infoLink won't be needed"
   ]
  },
  {
   "cell_type": "code",
   "execution_count": 8,
   "id": "7f3fbcbe",
   "metadata": {},
   "outputs": [],
   "source": [
    "books.drop('image', axis=1, inplace=True)\n",
    "books.drop('previewLink', axis=1, inplace=True)\n",
    "books.drop('infoLink', axis=1, inplace=True)\n",
    "books.drop('publisher', axis=1, inplace=True)\n",
    "books.drop('publishedDate', axis=1, inplace=True)"
   ]
  },
  {
   "cell_type": "code",
   "execution_count": 9,
   "id": "008fc2ea",
   "metadata": {
    "scrolled": true
   },
   "outputs": [
    {
     "data": {
      "text/html": [
       "<div>\n",
       "<style scoped>\n",
       "    .dataframe tbody tr th:only-of-type {\n",
       "        vertical-align: middle;\n",
       "    }\n",
       "\n",
       "    .dataframe tbody tr th {\n",
       "        vertical-align: top;\n",
       "    }\n",
       "\n",
       "    .dataframe thead th {\n",
       "        text-align: right;\n",
       "    }\n",
       "</style>\n",
       "<table border=\"1\" class=\"dataframe\">\n",
       "  <thead>\n",
       "    <tr style=\"text-align: right;\">\n",
       "      <th></th>\n",
       "      <th>Title</th>\n",
       "      <th>description</th>\n",
       "      <th>authors</th>\n",
       "      <th>categories</th>\n",
       "      <th>ratingsCount</th>\n",
       "    </tr>\n",
       "  </thead>\n",
       "  <tbody>\n",
       "    <tr>\n",
       "      <th>0</th>\n",
       "      <td>Its Only Art If Its Well Hung!</td>\n",
       "      <td>NaN</td>\n",
       "      <td>['Julie Strain']</td>\n",
       "      <td>['Comics &amp; Graphic Novels']</td>\n",
       "      <td>NaN</td>\n",
       "    </tr>\n",
       "    <tr>\n",
       "      <th>1</th>\n",
       "      <td>Dr. Seuss: American Icon</td>\n",
       "      <td>Philip Nel takes a fascinating look into the k...</td>\n",
       "      <td>['Philip Nel']</td>\n",
       "      <td>['Biography &amp; Autobiography']</td>\n",
       "      <td>NaN</td>\n",
       "    </tr>\n",
       "    <tr>\n",
       "      <th>2</th>\n",
       "      <td>Wonderful Worship in Smaller Churches</td>\n",
       "      <td>This resource includes twelve principles in un...</td>\n",
       "      <td>['David R. Ray']</td>\n",
       "      <td>['Religion']</td>\n",
       "      <td>NaN</td>\n",
       "    </tr>\n",
       "    <tr>\n",
       "      <th>3</th>\n",
       "      <td>Whispers of the Wicked Saints</td>\n",
       "      <td>Julia Thomas finds her life spinning out of co...</td>\n",
       "      <td>['Veronica Haddon']</td>\n",
       "      <td>['Fiction']</td>\n",
       "      <td>NaN</td>\n",
       "    </tr>\n",
       "    <tr>\n",
       "      <th>4</th>\n",
       "      <td>Nation Dance: Religion, Identity and Cultural ...</td>\n",
       "      <td>NaN</td>\n",
       "      <td>['Edward Long']</td>\n",
       "      <td>NaN</td>\n",
       "      <td>NaN</td>\n",
       "    </tr>\n",
       "  </tbody>\n",
       "</table>\n",
       "</div>"
      ],
      "text/plain": [
       "                                               Title  \\\n",
       "0                     Its Only Art If Its Well Hung!   \n",
       "1                           Dr. Seuss: American Icon   \n",
       "2              Wonderful Worship in Smaller Churches   \n",
       "3                      Whispers of the Wicked Saints   \n",
       "4  Nation Dance: Religion, Identity and Cultural ...   \n",
       "\n",
       "                                         description              authors  \\\n",
       "0                                                NaN     ['Julie Strain']   \n",
       "1  Philip Nel takes a fascinating look into the k...       ['Philip Nel']   \n",
       "2  This resource includes twelve principles in un...     ['David R. Ray']   \n",
       "3  Julia Thomas finds her life spinning out of co...  ['Veronica Haddon']   \n",
       "4                                                NaN      ['Edward Long']   \n",
       "\n",
       "                      categories  ratingsCount  \n",
       "0    ['Comics & Graphic Novels']           NaN  \n",
       "1  ['Biography & Autobiography']           NaN  \n",
       "2                   ['Religion']           NaN  \n",
       "3                    ['Fiction']           NaN  \n",
       "4                            NaN           NaN  "
      ]
     },
     "execution_count": 9,
     "metadata": {},
     "output_type": "execute_result"
    }
   ],
   "source": [
    "books.head()"
   ]
  },
  {
   "cell_type": "markdown",
   "id": "aff8d090",
   "metadata": {},
   "source": [
    "#### The percentage of missing data by book feature is given below.\n",
    "Conciderable amount of ratings count is missing - 76.58%"
   ]
  },
  {
   "cell_type": "code",
   "execution_count": 10,
   "id": "a8455a3b",
   "metadata": {},
   "outputs": [
    {
     "data": {
      "text/plain": [
       "Title            0.000471\n",
       "description     32.222557\n",
       "authors         14.789270\n",
       "categories      19.396527\n",
       "ratingsCount    76.576712\n",
       "dtype: float64"
      ]
     },
     "execution_count": 10,
     "metadata": {},
     "output_type": "execute_result"
    }
   ],
   "source": [
    "books.isna().sum()/books.shape[0]*100"
   ]
  },
  {
   "cell_type": "code",
   "execution_count": 11,
   "id": "ca1127e8",
   "metadata": {},
   "outputs": [
    {
     "data": {
      "text/plain": [
       "Title            0.000471\n",
       "description     32.222557\n",
       "authors         14.789270\n",
       "categories      19.396527\n",
       "ratingsCount    76.576712\n",
       "dtype: float64"
      ]
     },
     "execution_count": 11,
     "metadata": {},
     "output_type": "execute_result"
    }
   ],
   "source": [
    "books.isna().sum()/books.shape[0]*100"
   ]
  },
  {
   "cell_type": "code",
   "execution_count": 12,
   "id": "bcda3365",
   "metadata": {},
   "outputs": [],
   "source": [
    "books = books.drop(books[books.Title.isna()].index)"
   ]
  },
  {
   "cell_type": "markdown",
   "id": "7963fdf4",
   "metadata": {},
   "source": [
    "#### Transforming Authors and Categories features\n",
    "For example\\\n",
    "\\['Julie Strain'\\] - juliestrain\\\n",
    "\\['Allen Gersho', 'Robert M. Gray'\\] - allengersho robertm.gray\\\n",
    "\\['Comics & Graphic Novels'\\] - comics&graphicnovels"
   ]
  },
  {
   "cell_type": "code",
   "execution_count": 13,
   "id": "ed4e3ae9",
   "metadata": {},
   "outputs": [],
   "source": [
    "def transform(column):\n",
    "    try:\n",
    "        if isinstance(column, float):\n",
    "            raise TypeError\n",
    "        column = [x.strip('[\\'\\\"]') for x in column.split(', ')]\n",
    "        def clean_text(author):\n",
    "            names = author.split(' ')\n",
    "            cleaned_names = [name.lower() for name in names]\n",
    "            return ''.join(cleaned_names)\n",
    "        concatenated_text = ' '.join(clean_text(obj) for obj in column)\n",
    "        return concatenated_text\n",
    "    except TypeError:\n",
    "        pass"
   ]
  },
  {
   "cell_type": "code",
   "execution_count": 14,
   "id": "9db242bf",
   "metadata": {},
   "outputs": [
    {
     "data": {
      "text/plain": [
       "0       ['Julie Strain']\n",
       "1         ['Philip Nel']\n",
       "2       ['David R. Ray']\n",
       "3    ['Veronica Haddon']\n",
       "4        ['Edward Long']\n",
       "Name: authors, dtype: object"
      ]
     },
     "execution_count": 14,
     "metadata": {},
     "output_type": "execute_result"
    }
   ],
   "source": [
    "books['authors'].head()"
   ]
  },
  {
   "cell_type": "code",
   "execution_count": 15,
   "id": "f7d3a5e7",
   "metadata": {},
   "outputs": [],
   "source": [
    "books['authors'] = books['authors'].apply(transform)"
   ]
  },
  {
   "cell_type": "code",
   "execution_count": 16,
   "id": "78e865b8",
   "metadata": {
    "scrolled": true
   },
   "outputs": [
    {
     "data": {
      "text/plain": [
       "0       juliestrain\n",
       "1         philipnel\n",
       "2        davidr.ray\n",
       "3    veronicahaddon\n",
       "4        edwardlong\n",
       "Name: authors, dtype: object"
      ]
     },
     "execution_count": 16,
     "metadata": {},
     "output_type": "execute_result"
    }
   ],
   "source": [
    "books.authors.head()"
   ]
  },
  {
   "cell_type": "code",
   "execution_count": 17,
   "id": "f1740343",
   "metadata": {
    "scrolled": true
   },
   "outputs": [
    {
     "data": {
      "text/plain": [
       "0      ['Comics & Graphic Novels']\n",
       "1    ['Biography & Autobiography']\n",
       "2                     ['Religion']\n",
       "3                      ['Fiction']\n",
       "4                              NaN\n",
       "Name: categories, dtype: object"
      ]
     },
     "execution_count": 17,
     "metadata": {},
     "output_type": "execute_result"
    }
   ],
   "source": [
    "books['categories'].head()"
   ]
  },
  {
   "cell_type": "code",
   "execution_count": 18,
   "id": "8772c29e",
   "metadata": {},
   "outputs": [],
   "source": [
    "books['categories'] = books['categories'].apply(transform)"
   ]
  },
  {
   "cell_type": "code",
   "execution_count": 19,
   "id": "1bcf458f",
   "metadata": {},
   "outputs": [
    {
     "data": {
      "text/plain": [
       "0       comics&graphicnovels\n",
       "1    biography&autobiography\n",
       "2                   religion\n",
       "3                    fiction\n",
       "4                       None\n",
       "Name: categories, dtype: object"
      ]
     },
     "execution_count": 19,
     "metadata": {},
     "output_type": "execute_result"
    }
   ],
   "source": [
    "books['categories'].head()"
   ]
  },
  {
   "cell_type": "code",
   "execution_count": 20,
   "id": "d9f731a5",
   "metadata": {},
   "outputs": [
    {
     "data": {
      "text/html": [
       "<div>\n",
       "<style scoped>\n",
       "    .dataframe tbody tr th:only-of-type {\n",
       "        vertical-align: middle;\n",
       "    }\n",
       "\n",
       "    .dataframe tbody tr th {\n",
       "        vertical-align: top;\n",
       "    }\n",
       "\n",
       "    .dataframe thead th {\n",
       "        text-align: right;\n",
       "    }\n",
       "</style>\n",
       "<table border=\"1\" class=\"dataframe\">\n",
       "  <thead>\n",
       "    <tr style=\"text-align: right;\">\n",
       "      <th></th>\n",
       "      <th>Title</th>\n",
       "      <th>description</th>\n",
       "      <th>authors</th>\n",
       "      <th>categories</th>\n",
       "      <th>ratingsCount</th>\n",
       "    </tr>\n",
       "  </thead>\n",
       "  <tbody>\n",
       "    <tr>\n",
       "      <th>0</th>\n",
       "      <td>Its Only Art If Its Well Hung!</td>\n",
       "      <td>NaN</td>\n",
       "      <td>juliestrain</td>\n",
       "      <td>comics&amp;graphicnovels</td>\n",
       "      <td>NaN</td>\n",
       "    </tr>\n",
       "    <tr>\n",
       "      <th>1</th>\n",
       "      <td>Dr. Seuss: American Icon</td>\n",
       "      <td>Philip Nel takes a fascinating look into the k...</td>\n",
       "      <td>philipnel</td>\n",
       "      <td>biography&amp;autobiography</td>\n",
       "      <td>NaN</td>\n",
       "    </tr>\n",
       "    <tr>\n",
       "      <th>2</th>\n",
       "      <td>Wonderful Worship in Smaller Churches</td>\n",
       "      <td>This resource includes twelve principles in un...</td>\n",
       "      <td>davidr.ray</td>\n",
       "      <td>religion</td>\n",
       "      <td>NaN</td>\n",
       "    </tr>\n",
       "    <tr>\n",
       "      <th>3</th>\n",
       "      <td>Whispers of the Wicked Saints</td>\n",
       "      <td>Julia Thomas finds her life spinning out of co...</td>\n",
       "      <td>veronicahaddon</td>\n",
       "      <td>fiction</td>\n",
       "      <td>NaN</td>\n",
       "    </tr>\n",
       "    <tr>\n",
       "      <th>4</th>\n",
       "      <td>Nation Dance: Religion, Identity and Cultural ...</td>\n",
       "      <td>NaN</td>\n",
       "      <td>edwardlong</td>\n",
       "      <td>None</td>\n",
       "      <td>NaN</td>\n",
       "    </tr>\n",
       "  </tbody>\n",
       "</table>\n",
       "</div>"
      ],
      "text/plain": [
       "                                               Title  \\\n",
       "0                     Its Only Art If Its Well Hung!   \n",
       "1                           Dr. Seuss: American Icon   \n",
       "2              Wonderful Worship in Smaller Churches   \n",
       "3                      Whispers of the Wicked Saints   \n",
       "4  Nation Dance: Religion, Identity and Cultural ...   \n",
       "\n",
       "                                         description         authors  \\\n",
       "0                                                NaN     juliestrain   \n",
       "1  Philip Nel takes a fascinating look into the k...       philipnel   \n",
       "2  This resource includes twelve principles in un...      davidr.ray   \n",
       "3  Julia Thomas finds her life spinning out of co...  veronicahaddon   \n",
       "4                                                NaN      edwardlong   \n",
       "\n",
       "                categories  ratingsCount  \n",
       "0     comics&graphicnovels           NaN  \n",
       "1  biography&autobiography           NaN  \n",
       "2                 religion           NaN  \n",
       "3                  fiction           NaN  \n",
       "4                     None           NaN  "
      ]
     },
     "execution_count": 20,
     "metadata": {},
     "output_type": "execute_result"
    }
   ],
   "source": [
    "books.head()"
   ]
  },
  {
   "cell_type": "markdown",
   "id": "6aa11585",
   "metadata": {},
   "source": [
    "#### Taking into account only books with high ratings count (100+)"
   ]
  },
  {
   "cell_type": "code",
   "execution_count": 21,
   "id": "b75db195",
   "metadata": {},
   "outputs": [],
   "source": [
    "popular_books = books[books['ratingsCount'] >= 100]\n",
    "popular_books.reset_index(drop=True, inplace = True)"
   ]
  },
  {
   "cell_type": "markdown",
   "id": "3f88de0b",
   "metadata": {},
   "source": [
    "#### Renaming columns"
   ]
  },
  {
   "cell_type": "code",
   "execution_count": 22,
   "id": "11a9c751",
   "metadata": {},
   "outputs": [],
   "source": [
    "popular_books.rename(columns=\n",
    "                    {'Title':'title',\n",
    "                    'ratingsCount' : 'ratings_count' },inplace=True)"
   ]
  },
  {
   "cell_type": "markdown",
   "id": "c313216f",
   "metadata": {},
   "source": [
    "## Ratings Data set"
   ]
  },
  {
   "cell_type": "code",
   "execution_count": 23,
   "id": "399e0ff3",
   "metadata": {},
   "outputs": [
    {
     "name": "stdout",
     "output_type": "stream",
     "text": [
      "<class 'pandas.core.frame.DataFrame'>\n",
      "RangeIndex: 3000000 entries, 0 to 2999999\n",
      "Data columns (total 10 columns):\n",
      " #   Column              Dtype  \n",
      "---  ------              -----  \n",
      " 0   Id                  object \n",
      " 1   Title               object \n",
      " 2   Price               float64\n",
      " 3   User_id             object \n",
      " 4   profileName         object \n",
      " 5   review/helpfulness  object \n",
      " 6   review/score        float64\n",
      " 7   review/time         int64  \n",
      " 8   review/summary      object \n",
      " 9   review/text         object \n",
      "dtypes: float64(2), int64(1), object(7)\n",
      "memory usage: 228.9+ MB\n"
     ]
    }
   ],
   "source": [
    "ratings = pd.read_csv('Books_rating.csv')\n",
    "ratings.info()"
   ]
  },
  {
   "cell_type": "markdown",
   "id": "c58d3573",
   "metadata": {},
   "source": [
    "#### Features Price, profileName, review/time and review/summary won't be needed"
   ]
  },
  {
   "cell_type": "code",
   "execution_count": 24,
   "id": "649e4040",
   "metadata": {},
   "outputs": [],
   "source": [
    "ratings.drop(columns=['Price', 'profileName', 'review/time', 'review/summary'], inplace=True)"
   ]
  },
  {
   "cell_type": "markdown",
   "id": "1c6efc5f",
   "metadata": {},
   "source": [
    "#### Records without Title won't be useful"
   ]
  },
  {
   "cell_type": "code",
   "execution_count": 25,
   "id": "63d2473c",
   "metadata": {},
   "outputs": [],
   "source": [
    "ratings.drop(ratings[ratings['Title'].isna()].index, inplace=True)"
   ]
  },
  {
   "cell_type": "markdown",
   "id": "829fcfc6",
   "metadata": {},
   "source": [
    "#### Renaming columns"
   ]
  },
  {
   "cell_type": "code",
   "execution_count": 26,
   "id": "83c6b0a7",
   "metadata": {},
   "outputs": [],
   "source": [
    "ratings.rename(columns=\n",
    "               {'Id':'book_id', \n",
    "                'Title':'title',\n",
    "                'User_id':'user_id',\n",
    "                'review/helpfulness' :'helpfulness',\n",
    "                'review/summary' :'summary',\n",
    "                'review/score':'rating',\n",
    "                'review/text':'review' },inplace=True)"
   ]
  },
  {
   "cell_type": "markdown",
   "id": "346c23e6",
   "metadata": {},
   "source": [
    "#### Taking into account only ratings from cosiderable users (250+ reviews)"
   ]
  },
  {
   "cell_type": "code",
   "execution_count": 27,
   "id": "ed5e5d6b",
   "metadata": {},
   "outputs": [],
   "source": [
    "x = ratings.groupby('user_id').count()['rating'] > 250"
   ]
  },
  {
   "cell_type": "code",
   "execution_count": 28,
   "id": "605e5d38",
   "metadata": {},
   "outputs": [],
   "source": [
    "considerable_users = x[x].index"
   ]
  },
  {
   "cell_type": "code",
   "execution_count": 29,
   "id": "0b0ef3f6",
   "metadata": {},
   "outputs": [],
   "source": [
    "filtered_ratings = ratings[ratings['user_id'].isin(considerable_users)]"
   ]
  },
  {
   "cell_type": "markdown",
   "id": "e5ee1d6b",
   "metadata": {},
   "source": [
    "#### Transforming helpfulness"
   ]
  },
  {
   "cell_type": "code",
   "execution_count": 30,
   "id": "580f01e6",
   "metadata": {},
   "outputs": [],
   "source": [
    "def transform_helpfulness(x):\n",
    "    try:\n",
    "        x = x.split('/')\n",
    "        return round(eval(x[0]) / eval(x[1]), 2) if eval(x[1]) != 0 else None\n",
    "    except:\n",
    "        return None"
   ]
  },
  {
   "cell_type": "code",
   "execution_count": 31,
   "id": "9e66bbcd",
   "metadata": {},
   "outputs": [],
   "source": [
    "filtered_ratings['helpfulness'] = filtered_ratings['helpfulness'].apply(lambda x: transform_helpfulness(x))"
   ]
  },
  {
   "cell_type": "markdown",
   "id": "16fc2cb4",
   "metadata": {},
   "source": [
    "#### Taking into account only reviews of popular books (25+ ratings)"
   ]
  },
  {
   "cell_type": "code",
   "execution_count": 32,
   "id": "7bbded86",
   "metadata": {},
   "outputs": [],
   "source": [
    "y = filtered_ratings.groupby('title').count()['rating']>=25\n",
    "famous_books = y[y].index"
   ]
  },
  {
   "cell_type": "code",
   "execution_count": 33,
   "id": "4d83de40",
   "metadata": {},
   "outputs": [],
   "source": [
    "final_ratings = filtered_ratings[filtered_ratings['title'].isin(famous_books)]"
   ]
  },
  {
   "cell_type": "markdown",
   "id": "160e7db3",
   "metadata": {},
   "source": [
    "# Final Books and Ratings Data sets"
   ]
  },
  {
   "cell_type": "code",
   "execution_count": 34,
   "id": "5028a3a2",
   "metadata": {},
   "outputs": [
    {
     "data": {
      "text/html": [
       "<div>\n",
       "<style scoped>\n",
       "    .dataframe tbody tr th:only-of-type {\n",
       "        vertical-align: middle;\n",
       "    }\n",
       "\n",
       "    .dataframe tbody tr th {\n",
       "        vertical-align: top;\n",
       "    }\n",
       "\n",
       "    .dataframe thead th {\n",
       "        text-align: right;\n",
       "    }\n",
       "</style>\n",
       "<table border=\"1\" class=\"dataframe\">\n",
       "  <thead>\n",
       "    <tr style=\"text-align: right;\">\n",
       "      <th></th>\n",
       "      <th>title</th>\n",
       "      <th>description</th>\n",
       "      <th>authors</th>\n",
       "      <th>categories</th>\n",
       "      <th>ratings_count</th>\n",
       "    </tr>\n",
       "  </thead>\n",
       "  <tbody>\n",
       "    <tr>\n",
       "      <th>519</th>\n",
       "      <td>Matthew Henry's Commentary In One Volume</td>\n",
       "      <td>The Most Popular Commentary Ever Written in a ...</td>\n",
       "      <td>matthewhenry</td>\n",
       "      <td>religion</td>\n",
       "      <td>121.0</td>\n",
       "    </tr>\n",
       "    <tr>\n",
       "      <th>58</th>\n",
       "      <td>Mr. Beddle had a lamb.(short story): An articl...</td>\n",
       "      <td>A serial murderer known only by a grotesquely ...</td>\n",
       "      <td>thomasharris</td>\n",
       "      <td>fiction</td>\n",
       "      <td>3135.0</td>\n",
       "    </tr>\n",
       "    <tr>\n",
       "      <th>194</th>\n",
       "      <td>A Walk to Remember</td>\n",
       "      <td>NOVEL LEARNING SERIES(TM) A WALK TO REMEMBER b...</td>\n",
       "      <td>nicholassparks</td>\n",
       "      <td>studyaids</td>\n",
       "      <td>3251.0</td>\n",
       "    </tr>\n",
       "    <tr>\n",
       "      <th>706</th>\n",
       "      <td>Collector's Encyclopedia of Electric Christmas...</td>\n",
       "      <td>Journalist Walls grew up with parents whose id...</td>\n",
       "      <td>jeannettewalls</td>\n",
       "      <td>biography&amp;autobiography</td>\n",
       "      <td>153.0</td>\n",
       "    </tr>\n",
       "    <tr>\n",
       "      <th>571</th>\n",
       "      <td>Roughdrafts: The Process of Writing</td>\n",
       "      <td>From the acclaimed New York Times bestselling ...</td>\n",
       "      <td>annelamott</td>\n",
       "      <td>languagearts&amp;disciplines</td>\n",
       "      <td>133.0</td>\n",
       "    </tr>\n",
       "  </tbody>\n",
       "</table>\n",
       "</div>"
      ],
      "text/plain": [
       "                                                 title  \\\n",
       "519           Matthew Henry's Commentary In One Volume   \n",
       "58   Mr. Beddle had a lamb.(short story): An articl...   \n",
       "194                                 A Walk to Remember   \n",
       "706  Collector's Encyclopedia of Electric Christmas...   \n",
       "571                Roughdrafts: The Process of Writing   \n",
       "\n",
       "                                           description         authors  \\\n",
       "519  The Most Popular Commentary Ever Written in a ...    matthewhenry   \n",
       "58   A serial murderer known only by a grotesquely ...    thomasharris   \n",
       "194  NOVEL LEARNING SERIES(TM) A WALK TO REMEMBER b...  nicholassparks   \n",
       "706  Journalist Walls grew up with parents whose id...  jeannettewalls   \n",
       "571  From the acclaimed New York Times bestselling ...      annelamott   \n",
       "\n",
       "                   categories  ratings_count  \n",
       "519                  religion          121.0  \n",
       "58                    fiction         3135.0  \n",
       "194                 studyaids         3251.0  \n",
       "706   biography&autobiography          153.0  \n",
       "571  languagearts&disciplines          133.0  "
      ]
     },
     "execution_count": 34,
     "metadata": {},
     "output_type": "execute_result"
    }
   ],
   "source": [
    "popular_books.sample(5)"
   ]
  },
  {
   "cell_type": "code",
   "execution_count": 35,
   "id": "d8fdcc6d",
   "metadata": {},
   "outputs": [
    {
     "data": {
      "text/html": [
       "<div>\n",
       "<style scoped>\n",
       "    .dataframe tbody tr th:only-of-type {\n",
       "        vertical-align: middle;\n",
       "    }\n",
       "\n",
       "    .dataframe tbody tr th {\n",
       "        vertical-align: top;\n",
       "    }\n",
       "\n",
       "    .dataframe thead th {\n",
       "        text-align: right;\n",
       "    }\n",
       "</style>\n",
       "<table border=\"1\" class=\"dataframe\">\n",
       "  <thead>\n",
       "    <tr style=\"text-align: right;\">\n",
       "      <th></th>\n",
       "      <th>book_id</th>\n",
       "      <th>title</th>\n",
       "      <th>user_id</th>\n",
       "      <th>helpfulness</th>\n",
       "      <th>rating</th>\n",
       "      <th>review</th>\n",
       "    </tr>\n",
       "  </thead>\n",
       "  <tbody>\n",
       "    <tr>\n",
       "      <th>1870480</th>\n",
       "      <td>B000MWC3FQ</td>\n",
       "      <td>Atlas Shrugged</td>\n",
       "      <td>A55MRYPUAX4QU</td>\n",
       "      <td>0.69</td>\n",
       "      <td>5.0</td>\n",
       "      <td>Pundits have stated that ATLAS SHRUGGED is the...</td>\n",
       "    </tr>\n",
       "    <tr>\n",
       "      <th>2157076</th>\n",
       "      <td>0613371488</td>\n",
       "      <td>The Hound of the Baskervilles (Signet Classics)</td>\n",
       "      <td>AHXAPVSHPJ6OJ</td>\n",
       "      <td>0.50</td>\n",
       "      <td>4.0</td>\n",
       "      <td>Reviewing a Sherlock Holmes story is like revi...</td>\n",
       "    </tr>\n",
       "    <tr>\n",
       "      <th>407465</th>\n",
       "      <td>B000L4056E</td>\n",
       "      <td>The Fellowship of the Ring</td>\n",
       "      <td>AQQLWCMRNDFGI</td>\n",
       "      <td>1.00</td>\n",
       "      <td>5.0</td>\n",
       "      <td>I read this way back when I was an undergradua...</td>\n",
       "    </tr>\n",
       "    <tr>\n",
       "      <th>29777</th>\n",
       "      <td>0140860096</td>\n",
       "      <td>Of Mice and Men (Penguin Audiobooks)</td>\n",
       "      <td>A1S3C5OFU508P3</td>\n",
       "      <td>NaN</td>\n",
       "      <td>5.0</td>\n",
       "      <td>This is the first book by Steinbeck that I eve...</td>\n",
       "    </tr>\n",
       "    <tr>\n",
       "      <th>859709</th>\n",
       "      <td>0394556380</td>\n",
       "      <td>The Postman Always Rings Twice</td>\n",
       "      <td>A1XTWXIMUCDGQE</td>\n",
       "      <td>1.00</td>\n",
       "      <td>4.0</td>\n",
       "      <td>I'm usually not a big reader of crime novels, ...</td>\n",
       "    </tr>\n",
       "  </tbody>\n",
       "</table>\n",
       "</div>"
      ],
      "text/plain": [
       "            book_id                                            title  \\\n",
       "1870480  B000MWC3FQ                                   Atlas Shrugged   \n",
       "2157076  0613371488  The Hound of the Baskervilles (Signet Classics)   \n",
       "407465   B000L4056E                       The Fellowship of the Ring   \n",
       "29777    0140860096             Of Mice and Men (Penguin Audiobooks)   \n",
       "859709   0394556380                   The Postman Always Rings Twice   \n",
       "\n",
       "                user_id  helpfulness  rating  \\\n",
       "1870480   A55MRYPUAX4QU         0.69     5.0   \n",
       "2157076   AHXAPVSHPJ6OJ         0.50     4.0   \n",
       "407465    AQQLWCMRNDFGI         1.00     5.0   \n",
       "29777    A1S3C5OFU508P3          NaN     5.0   \n",
       "859709   A1XTWXIMUCDGQE         1.00     4.0   \n",
       "\n",
       "                                                    review  \n",
       "1870480  Pundits have stated that ATLAS SHRUGGED is the...  \n",
       "2157076  Reviewing a Sherlock Holmes story is like revi...  \n",
       "407465   I read this way back when I was an undergradua...  \n",
       "29777    This is the first book by Steinbeck that I eve...  \n",
       "859709   I'm usually not a big reader of crime novels, ...  "
      ]
     },
     "execution_count": 35,
     "metadata": {},
     "output_type": "execute_result"
    }
   ],
   "source": [
    "final_ratings.sample(5)"
   ]
  },
  {
   "cell_type": "markdown",
   "id": "af877f3a",
   "metadata": {},
   "source": [
    "### Dimensions"
   ]
  },
  {
   "cell_type": "code",
   "execution_count": 36,
   "id": "7be9e0db",
   "metadata": {},
   "outputs": [
    {
     "name": "stdout",
     "output_type": "stream",
     "text": [
      "Books dimensions:\t789 rows\t5 features\n",
      "Ratings dimensions:\t20933 rows\t6 features\n"
     ]
    }
   ],
   "source": [
    "print(f'Books dimensions:\\t{popular_books.shape[0]} rows\\t{popular_books.shape[1]} features')\n",
    "print(f'Ratings dimensions:\\t{final_ratings.shape[0]} rows\\t{final_ratings.shape[1]} features')"
   ]
  },
  {
   "cell_type": "markdown",
   "id": "7c1f825e-ca00-4fc0-8c90-e703a974f7e4",
   "metadata": {},
   "source": [
    "# Recommender System - Content-based"
   ]
  },
  {
   "cell_type": "code",
   "execution_count": 149,
   "id": "fea93434-a2f3-431d-b7ae-ac10025f1ebb",
   "metadata": {},
   "outputs": [],
   "source": [
    "from surprise import Dataset\n",
    "from surprise import Dataset\n",
    "from surprise import Reader\n",
    "from surprise import KNNWithMeans\n",
    "from surprise import accuracy\n",
    "\n",
    "from sklearn.feature_extraction import text\n",
    "from sklearn.metrics.pairwise import linear_kernel, cosine_similarity"
   ]
  },
  {
   "cell_type": "code",
   "execution_count": 40,
   "id": "757e399a-12dc-4e86-a600-19d99aa3d6cc",
   "metadata": {},
   "outputs": [],
   "source": [
    "data = popular_books[['title','description','ratings_count']]"
   ]
  },
  {
   "cell_type": "code",
   "execution_count": 43,
   "id": "9df44dc3-989e-40aa-9213-848762b9f9a0",
   "metadata": {},
   "outputs": [
    {
     "name": "stdout",
     "output_type": "stream",
     "text": [
      "title            0\n",
      "description      0\n",
      "ratings_count    0\n",
      "dtype: int64\n"
     ]
    }
   ],
   "source": [
    "print(data.isnull().sum())"
   ]
  },
  {
   "cell_type": "code",
   "execution_count": 42,
   "id": "0ba03329-2172-4231-9f29-24f95aa68c47",
   "metadata": {
    "tags": []
   },
   "outputs": [],
   "source": [
    "data = data.dropna()"
   ]
  },
  {
   "cell_type": "code",
   "execution_count": 72,
   "id": "7dac589f-35a1-4c42-99fd-fa5463a9d155",
   "metadata": {},
   "outputs": [
    {
     "name": "stdout",
     "output_type": "stream",
     "text": [
      "There are 756 books in the dataset.\n"
     ]
    }
   ],
   "source": [
    "print(f'There are {data.shape[0]} books in the dataset.')"
   ]
  },
  {
   "cell_type": "code",
   "execution_count": 104,
   "id": "de5f7363-38f4-4245-b334-52dcc9e303b5",
   "metadata": {},
   "outputs": [],
   "source": [
    "tfidf = text.TfidfVectorizer(input='content', stop_words='english')\n",
    "tfidf_matrix = tfidf.fit_transform(data['description'])\n"
   ]
  },
  {
   "cell_type": "code",
   "execution_count": 105,
   "id": "8534e484-31b9-4624-865e-9b360a18b551",
   "metadata": {},
   "outputs": [
    {
     "name": "stdout",
     "output_type": "stream",
     "text": [
      "The shape of term-frequency inverse-document-frequency matrix is (756, 10704).\n",
      "There are 756 books, described by 10704 terms.\n"
     ]
    }
   ],
   "source": [
    "print(f'The shape of term-frequency inverse-document-frequency matrix is {tfidf_matrix.shape}.')\n",
    "print(f'There are {tfidf_matrix.shape[0]} books, described by {tfidf_matrix.shape[1]} terms.')"
   ]
  },
  {
   "cell_type": "code",
   "execution_count": 106,
   "id": "e4937a2d-9120-41c1-9462-c8e52323ce7c",
   "metadata": {},
   "outputs": [],
   "source": [
    "similarity = linear_kernel(tfidf_matrix, tfidf_matrix)"
   ]
  },
  {
   "cell_type": "code",
   "execution_count": 107,
   "id": "50484b46-2419-4842-a571-1f54d886978b",
   "metadata": {},
   "outputs": [],
   "source": [
    "indices = pd.Series(data.index, index=data['title'])"
   ]
  },
  {
   "cell_type": "code",
   "execution_count": 112,
   "id": "a595e5d2-3858-4d0f-985b-406d159e7189",
   "metadata": {},
   "outputs": [
    {
     "name": "stdout",
     "output_type": "stream",
     "text": [
      "67                                      Esperanza Rising\n",
      "100    Where Am I Hiding? / Donde Me Escondo? (Un Bue...\n",
      "428    CliffsNotes on Cisnero's The House on Mango St...\n",
      "277                                   The Book of Wonder\n",
      "338    Si te dicen que cai (Biblioteca breve ; 398 : ...\n",
      "Name: title, dtype: object\n"
     ]
    }
   ],
   "source": [
    "def get_book_recommendations(title, similarity = similarity):\n",
    "    index = indices[title]\n",
    "    similarity_scores = list(enumerate(similarity[index]))\n",
    "    similarity_scores = sorted(similarity_scores, key=lambda x: x[1], reverse=True)\n",
    "    similarity_scores = similarity_scores[0:5]\n",
    "    bookindices = [i[0] for i in similarity_scores]\n",
    "    return data['title'].iloc[bookindices]\n",
    "\n",
    "print(get_book_recommendations(\"The Hobbit\"))"
   ]
  },
  {
   "cell_type": "markdown",
   "id": "7bdb58f7-cd1f-400c-a62d-3dff2f0ecd12",
   "metadata": {},
   "source": [
    "# User-based Collaborative Filtering"
   ]
  },
  {
   "cell_type": "code",
   "execution_count": 114,
   "id": "5e0926c4-c319-45b7-9e99-5fc67a69fbfe",
   "metadata": {},
   "outputs": [],
   "source": [
    "data = final_ratings[['user_id','book_id','rating']]"
   ]
  },
  {
   "cell_type": "code",
   "execution_count": 116,
   "id": "505b6146-f966-4602-b29d-d7d8027eb428",
   "metadata": {},
   "outputs": [
    {
     "data": {
      "text/plain": [
       "(20933, 3)"
      ]
     },
     "execution_count": 116,
     "metadata": {},
     "output_type": "execute_result"
    }
   ],
   "source": [
    "data.shape"
   ]
  },
  {
   "cell_type": "code",
   "execution_count": 118,
   "id": "7b413b1a-0ee7-487c-92ad-54768b02365a",
   "metadata": {},
   "outputs": [],
   "source": [
    "unique_users = data['user_id'].unique()\n",
    "unique_books = data['book_id'].unique()"
   ]
  },
  {
   "cell_type": "code",
   "execution_count": 120,
   "id": "a904b6c2-f28b-4f7e-9017-fb79c4690d1c",
   "metadata": {},
   "outputs": [
    {
     "name": "stdout",
     "output_type": "stream",
     "text": [
      "Unique users: 216\n",
      "Unique books: 842\n"
     ]
    }
   ],
   "source": [
    "print(f'Unique users: {unique_users.size}')\n",
    "print(f'Unique books: {unique_books.size}')"
   ]
  },
  {
   "cell_type": "code",
   "execution_count": 125,
   "id": "a7ad5e3c-66ee-4408-9c9a-8ecfbaf84664",
   "metadata": {},
   "outputs": [],
   "source": [
    "matrix = pd.DataFrame(unique_users)\n",
    "matrix.columns = ['user_id']"
   ]
  },
  {
   "cell_type": "code",
   "execution_count": 126,
   "id": "a2e662e1-ae2e-4b4c-8ee0-caafa7ed44ef",
   "metadata": {},
   "outputs": [],
   "source": [
    "for book in unique_books:\n",
    "    matrix[book] = None"
   ]
  },
  {
   "cell_type": "code",
   "execution_count": 132,
   "id": "7aea78a4-f6a3-4dc9-89db-4600c558ae20",
   "metadata": {},
   "outputs": [],
   "source": [
    "for j, user in enumerate(matrix['user_id'].values):\n",
    "    for i in range(data[data['user_id'] == user].shape[0]):\n",
    "        product_id = data[data['user_id'] == user]['book_id'].iloc[i]\n",
    "        rating = data[data['user_id'] == user]['rating'].iloc[i]\n",
    "        matrix[product_id][j] = rating"
   ]
  },
  {
   "cell_type": "code",
   "execution_count": 133,
   "id": "3296c72c-322d-4144-8691-e40f56e4cb86",
   "metadata": {},
   "outputs": [
    {
     "data": {
      "text/plain": [
       "(216, 843)"
      ]
     },
     "execution_count": 133,
     "metadata": {},
     "output_type": "execute_result"
    }
   ],
   "source": [
    "matrix.shape"
   ]
  },
  {
   "cell_type": "code",
   "execution_count": 155,
   "id": "616b91e5-68be-4c2f-bc5d-3caf18c94bfb",
   "metadata": {},
   "outputs": [
    {
     "data": {
      "text/plain": [
       "30"
      ]
     },
     "execution_count": 155,
     "metadata": {},
     "output_type": "execute_result"
    }
   ],
   "source": [
    "user = pd.DataFrame(matrix.iloc[104]) # random user\n",
    "user_id = user.loc['user_id'].values\n",
    "user = user.drop(['user_id'])\n",
    "user[user.notnull().values].size"
   ]
  },
  {
   "cell_type": "code",
   "execution_count": 146,
   "id": "055b68ee-66b1-4678-b04d-e036f82b2a0e",
   "metadata": {},
   "outputs": [],
   "source": [
    "similar_users = matrix[matrix[user[user.notnull().values].index[0]].notnull()]"
   ]
  },
  {
   "cell_type": "code",
   "execution_count": 147,
   "id": "d65f82aa-3c39-49db-ac15-4c6032d4b38e",
   "metadata": {},
   "outputs": [
    {
     "data": {
      "text/html": [
       "<div>\n",
       "<style scoped>\n",
       "    .dataframe tbody tr th:only-of-type {\n",
       "        vertical-align: middle;\n",
       "    }\n",
       "\n",
       "    .dataframe tbody tr th {\n",
       "        vertical-align: top;\n",
       "    }\n",
       "\n",
       "    .dataframe thead th {\n",
       "        text-align: right;\n",
       "    }\n",
       "</style>\n",
       "<table border=\"1\" class=\"dataframe\">\n",
       "  <thead>\n",
       "    <tr style=\"text-align: right;\">\n",
       "      <th></th>\n",
       "      <th>user_id</th>\n",
       "      <th>B000N6DDJQ</th>\n",
       "      <th>B000J5KSK8</th>\n",
       "      <th>B0000CKD7E</th>\n",
       "      <th>B000PBZH5M</th>\n",
       "      <th>B0006AONEI</th>\n",
       "      <th>1588550311</th>\n",
       "      <th>B000PBZH6Q</th>\n",
       "      <th>158855032X</th>\n",
       "      <th>9562910334</th>\n",
       "      <th>...</th>\n",
       "      <th>B000L9Z1WW</th>\n",
       "      <th>B000PJWRH0</th>\n",
       "      <th>B000NW46MI</th>\n",
       "      <th>B000FML2C8</th>\n",
       "      <th>B000MTRTTE</th>\n",
       "      <th>B000Q032UY</th>\n",
       "      <th>B000JJKRKK</th>\n",
       "      <th>140004006X</th>\n",
       "      <th>B000OVMUX0</th>\n",
       "      <th>B000P91JYW</th>\n",
       "    </tr>\n",
       "  </thead>\n",
       "  <tbody>\n",
       "    <tr>\n",
       "      <th>2</th>\n",
       "      <td>AWLFVCT9128JV</td>\n",
       "      <td>4.0</td>\n",
       "      <td>4.0</td>\n",
       "      <td>None</td>\n",
       "      <td>4.0</td>\n",
       "      <td>None</td>\n",
       "      <td>None</td>\n",
       "      <td>4.0</td>\n",
       "      <td>None</td>\n",
       "      <td>5.0</td>\n",
       "      <td>...</td>\n",
       "      <td>None</td>\n",
       "      <td>None</td>\n",
       "      <td>None</td>\n",
       "      <td>None</td>\n",
       "      <td>None</td>\n",
       "      <td>5.0</td>\n",
       "      <td>None</td>\n",
       "      <td>None</td>\n",
       "      <td>3.0</td>\n",
       "      <td>5.0</td>\n",
       "    </tr>\n",
       "    <tr>\n",
       "      <th>4</th>\n",
       "      <td>A3IKBHODOTYYHM</td>\n",
       "      <td>4.0</td>\n",
       "      <td>None</td>\n",
       "      <td>None</td>\n",
       "      <td>None</td>\n",
       "      <td>None</td>\n",
       "      <td>None</td>\n",
       "      <td>None</td>\n",
       "      <td>None</td>\n",
       "      <td>4.0</td>\n",
       "      <td>...</td>\n",
       "      <td>None</td>\n",
       "      <td>None</td>\n",
       "      <td>None</td>\n",
       "      <td>4.0</td>\n",
       "      <td>None</td>\n",
       "      <td>None</td>\n",
       "      <td>None</td>\n",
       "      <td>None</td>\n",
       "      <td>None</td>\n",
       "      <td>4.0</td>\n",
       "    </tr>\n",
       "    <tr>\n",
       "      <th>5</th>\n",
       "      <td>A3KF4IP2MUS8QQ</td>\n",
       "      <td>5.0</td>\n",
       "      <td>None</td>\n",
       "      <td>None</td>\n",
       "      <td>None</td>\n",
       "      <td>None</td>\n",
       "      <td>None</td>\n",
       "      <td>None</td>\n",
       "      <td>None</td>\n",
       "      <td>None</td>\n",
       "      <td>...</td>\n",
       "      <td>None</td>\n",
       "      <td>None</td>\n",
       "      <td>None</td>\n",
       "      <td>None</td>\n",
       "      <td>None</td>\n",
       "      <td>None</td>\n",
       "      <td>None</td>\n",
       "      <td>None</td>\n",
       "      <td>None</td>\n",
       "      <td>None</td>\n",
       "    </tr>\n",
       "    <tr>\n",
       "      <th>12</th>\n",
       "      <td>A20EEWWSFMZ1PN</td>\n",
       "      <td>3.0</td>\n",
       "      <td>5.0</td>\n",
       "      <td>None</td>\n",
       "      <td>None</td>\n",
       "      <td>None</td>\n",
       "      <td>None</td>\n",
       "      <td>None</td>\n",
       "      <td>None</td>\n",
       "      <td>5.0</td>\n",
       "      <td>...</td>\n",
       "      <td>None</td>\n",
       "      <td>5.0</td>\n",
       "      <td>None</td>\n",
       "      <td>5.0</td>\n",
       "      <td>None</td>\n",
       "      <td>5.0</td>\n",
       "      <td>None</td>\n",
       "      <td>None</td>\n",
       "      <td>None</td>\n",
       "      <td>None</td>\n",
       "    </tr>\n",
       "    <tr>\n",
       "      <th>13</th>\n",
       "      <td>A96K1ZGW56S2I</td>\n",
       "      <td>5.0</td>\n",
       "      <td>None</td>\n",
       "      <td>None</td>\n",
       "      <td>None</td>\n",
       "      <td>None</td>\n",
       "      <td>None</td>\n",
       "      <td>None</td>\n",
       "      <td>None</td>\n",
       "      <td>None</td>\n",
       "      <td>...</td>\n",
       "      <td>None</td>\n",
       "      <td>None</td>\n",
       "      <td>None</td>\n",
       "      <td>3.0</td>\n",
       "      <td>None</td>\n",
       "      <td>None</td>\n",
       "      <td>None</td>\n",
       "      <td>None</td>\n",
       "      <td>None</td>\n",
       "      <td>None</td>\n",
       "    </tr>\n",
       "  </tbody>\n",
       "</table>\n",
       "<p>5 rows × 843 columns</p>\n",
       "</div>"
      ],
      "text/plain": [
       "           user_id B000N6DDJQ B000J5KSK8 B0000CKD7E B000PBZH5M B0006AONEI  \\\n",
       "2    AWLFVCT9128JV        4.0        4.0       None        4.0       None   \n",
       "4   A3IKBHODOTYYHM        4.0       None       None       None       None   \n",
       "5   A3KF4IP2MUS8QQ        5.0       None       None       None       None   \n",
       "12  A20EEWWSFMZ1PN        3.0        5.0       None       None       None   \n",
       "13   A96K1ZGW56S2I        5.0       None       None       None       None   \n",
       "\n",
       "   1588550311 B000PBZH6Q 158855032X 9562910334  ... B000L9Z1WW B000PJWRH0  \\\n",
       "2        None        4.0       None        5.0  ...       None       None   \n",
       "4        None       None       None        4.0  ...       None       None   \n",
       "5        None       None       None       None  ...       None       None   \n",
       "12       None       None       None        5.0  ...       None        5.0   \n",
       "13       None       None       None       None  ...       None       None   \n",
       "\n",
       "   B000NW46MI B000FML2C8 B000MTRTTE B000Q032UY B000JJKRKK 140004006X  \\\n",
       "2        None       None       None        5.0       None       None   \n",
       "4        None        4.0       None       None       None       None   \n",
       "5        None       None       None       None       None       None   \n",
       "12       None        5.0       None        5.0       None       None   \n",
       "13       None        3.0       None       None       None       None   \n",
       "\n",
       "   B000OVMUX0 B000P91JYW  \n",
       "2         3.0        5.0  \n",
       "4        None        4.0  \n",
       "5        None       None  \n",
       "12       None       None  \n",
       "13       None       None  \n",
       "\n",
       "[5 rows x 843 columns]"
      ]
     },
     "execution_count": 147,
     "metadata": {},
     "output_type": "execute_result"
    }
   ],
   "source": [
    "similar_users.head()"
   ]
  },
  {
   "cell_type": "code",
   "execution_count": 148,
   "id": "6a99536c-0c1a-4c3a-8884-40971056fb3f",
   "metadata": {},
   "outputs": [
    {
     "data": {
      "text/html": [
       "<div>\n",
       "<style scoped>\n",
       "    .dataframe tbody tr th:only-of-type {\n",
       "        vertical-align: middle;\n",
       "    }\n",
       "\n",
       "    .dataframe tbody tr th {\n",
       "        vertical-align: top;\n",
       "    }\n",
       "\n",
       "    .dataframe thead th {\n",
       "        text-align: right;\n",
       "    }\n",
       "</style>\n",
       "<table border=\"1\" class=\"dataframe\">\n",
       "  <thead>\n",
       "    <tr style=\"text-align: right;\">\n",
       "      <th></th>\n",
       "      <th>B000N6DDJQ</th>\n",
       "      <th>B000J5KSK8</th>\n",
       "      <th>B0000CKD7E</th>\n",
       "      <th>B000PBZH5M</th>\n",
       "      <th>B0006AONEI</th>\n",
       "      <th>1588550311</th>\n",
       "      <th>B000PBZH6Q</th>\n",
       "      <th>158855032X</th>\n",
       "      <th>9562910334</th>\n",
       "      <th>B000TZ19TC</th>\n",
       "      <th>...</th>\n",
       "      <th>B000L9Z1WW</th>\n",
       "      <th>B000PJWRH0</th>\n",
       "      <th>B000NW46MI</th>\n",
       "      <th>B000FML2C8</th>\n",
       "      <th>B000MTRTTE</th>\n",
       "      <th>B000Q032UY</th>\n",
       "      <th>B000JJKRKK</th>\n",
       "      <th>140004006X</th>\n",
       "      <th>B000OVMUX0</th>\n",
       "      <th>B000P91JYW</th>\n",
       "    </tr>\n",
       "    <tr>\n",
       "      <th>user_id</th>\n",
       "      <th></th>\n",
       "      <th></th>\n",
       "      <th></th>\n",
       "      <th></th>\n",
       "      <th></th>\n",
       "      <th></th>\n",
       "      <th></th>\n",
       "      <th></th>\n",
       "      <th></th>\n",
       "      <th></th>\n",
       "      <th></th>\n",
       "      <th></th>\n",
       "      <th></th>\n",
       "      <th></th>\n",
       "      <th></th>\n",
       "      <th></th>\n",
       "      <th></th>\n",
       "      <th></th>\n",
       "      <th></th>\n",
       "      <th></th>\n",
       "      <th></th>\n",
       "    </tr>\n",
       "  </thead>\n",
       "  <tbody>\n",
       "    <tr>\n",
       "      <th>AWLFVCT9128JV</th>\n",
       "      <td>4.0</td>\n",
       "      <td>4.0</td>\n",
       "      <td>0.0</td>\n",
       "      <td>4.0</td>\n",
       "      <td>0.0</td>\n",
       "      <td>0.0</td>\n",
       "      <td>4.0</td>\n",
       "      <td>0.0</td>\n",
       "      <td>5.0</td>\n",
       "      <td>5.0</td>\n",
       "      <td>...</td>\n",
       "      <td>0.0</td>\n",
       "      <td>0.0</td>\n",
       "      <td>0.0</td>\n",
       "      <td>0.0</td>\n",
       "      <td>0.0</td>\n",
       "      <td>5.0</td>\n",
       "      <td>0.0</td>\n",
       "      <td>0.0</td>\n",
       "      <td>3.0</td>\n",
       "      <td>5.0</td>\n",
       "    </tr>\n",
       "    <tr>\n",
       "      <th>A3IKBHODOTYYHM</th>\n",
       "      <td>4.0</td>\n",
       "      <td>0.0</td>\n",
       "      <td>0.0</td>\n",
       "      <td>0.0</td>\n",
       "      <td>0.0</td>\n",
       "      <td>0.0</td>\n",
       "      <td>0.0</td>\n",
       "      <td>0.0</td>\n",
       "      <td>4.0</td>\n",
       "      <td>5.0</td>\n",
       "      <td>...</td>\n",
       "      <td>0.0</td>\n",
       "      <td>0.0</td>\n",
       "      <td>0.0</td>\n",
       "      <td>4.0</td>\n",
       "      <td>0.0</td>\n",
       "      <td>0.0</td>\n",
       "      <td>0.0</td>\n",
       "      <td>0.0</td>\n",
       "      <td>0.0</td>\n",
       "      <td>4.0</td>\n",
       "    </tr>\n",
       "    <tr>\n",
       "      <th>A3KF4IP2MUS8QQ</th>\n",
       "      <td>5.0</td>\n",
       "      <td>0.0</td>\n",
       "      <td>0.0</td>\n",
       "      <td>0.0</td>\n",
       "      <td>0.0</td>\n",
       "      <td>0.0</td>\n",
       "      <td>0.0</td>\n",
       "      <td>0.0</td>\n",
       "      <td>0.0</td>\n",
       "      <td>5.0</td>\n",
       "      <td>...</td>\n",
       "      <td>0.0</td>\n",
       "      <td>0.0</td>\n",
       "      <td>0.0</td>\n",
       "      <td>0.0</td>\n",
       "      <td>0.0</td>\n",
       "      <td>0.0</td>\n",
       "      <td>0.0</td>\n",
       "      <td>0.0</td>\n",
       "      <td>0.0</td>\n",
       "      <td>0.0</td>\n",
       "    </tr>\n",
       "    <tr>\n",
       "      <th>A20EEWWSFMZ1PN</th>\n",
       "      <td>3.0</td>\n",
       "      <td>5.0</td>\n",
       "      <td>0.0</td>\n",
       "      <td>0.0</td>\n",
       "      <td>0.0</td>\n",
       "      <td>0.0</td>\n",
       "      <td>0.0</td>\n",
       "      <td>0.0</td>\n",
       "      <td>5.0</td>\n",
       "      <td>5.0</td>\n",
       "      <td>...</td>\n",
       "      <td>0.0</td>\n",
       "      <td>5.0</td>\n",
       "      <td>0.0</td>\n",
       "      <td>5.0</td>\n",
       "      <td>0.0</td>\n",
       "      <td>5.0</td>\n",
       "      <td>0.0</td>\n",
       "      <td>0.0</td>\n",
       "      <td>0.0</td>\n",
       "      <td>0.0</td>\n",
       "    </tr>\n",
       "    <tr>\n",
       "      <th>A96K1ZGW56S2I</th>\n",
       "      <td>5.0</td>\n",
       "      <td>0.0</td>\n",
       "      <td>0.0</td>\n",
       "      <td>0.0</td>\n",
       "      <td>0.0</td>\n",
       "      <td>0.0</td>\n",
       "      <td>0.0</td>\n",
       "      <td>0.0</td>\n",
       "      <td>0.0</td>\n",
       "      <td>4.0</td>\n",
       "      <td>...</td>\n",
       "      <td>0.0</td>\n",
       "      <td>0.0</td>\n",
       "      <td>0.0</td>\n",
       "      <td>3.0</td>\n",
       "      <td>0.0</td>\n",
       "      <td>0.0</td>\n",
       "      <td>0.0</td>\n",
       "      <td>0.0</td>\n",
       "      <td>0.0</td>\n",
       "      <td>0.0</td>\n",
       "    </tr>\n",
       "  </tbody>\n",
       "</table>\n",
       "<p>5 rows × 842 columns</p>\n",
       "</div>"
      ],
      "text/plain": [
       "                B000N6DDJQ  B000J5KSK8  B0000CKD7E  B000PBZH5M  B0006AONEI  \\\n",
       "user_id                                                                      \n",
       "AWLFVCT9128JV          4.0         4.0         0.0         4.0         0.0   \n",
       "A3IKBHODOTYYHM         4.0         0.0         0.0         0.0         0.0   \n",
       "A3KF4IP2MUS8QQ         5.0         0.0         0.0         0.0         0.0   \n",
       "A20EEWWSFMZ1PN         3.0         5.0         0.0         0.0         0.0   \n",
       "A96K1ZGW56S2I          5.0         0.0         0.0         0.0         0.0   \n",
       "\n",
       "                1588550311  B000PBZH6Q  158855032X  9562910334  B000TZ19TC  \\\n",
       "user_id                                                                      \n",
       "AWLFVCT9128JV          0.0         4.0         0.0         5.0         5.0   \n",
       "A3IKBHODOTYYHM         0.0         0.0         0.0         4.0         5.0   \n",
       "A3KF4IP2MUS8QQ         0.0         0.0         0.0         0.0         5.0   \n",
       "A20EEWWSFMZ1PN         0.0         0.0         0.0         5.0         5.0   \n",
       "A96K1ZGW56S2I          0.0         0.0         0.0         0.0         4.0   \n",
       "\n",
       "                ...  B000L9Z1WW  B000PJWRH0  B000NW46MI  B000FML2C8  \\\n",
       "user_id         ...                                                   \n",
       "AWLFVCT9128JV   ...         0.0         0.0         0.0         0.0   \n",
       "A3IKBHODOTYYHM  ...         0.0         0.0         0.0         4.0   \n",
       "A3KF4IP2MUS8QQ  ...         0.0         0.0         0.0         0.0   \n",
       "A20EEWWSFMZ1PN  ...         0.0         5.0         0.0         5.0   \n",
       "A96K1ZGW56S2I   ...         0.0         0.0         0.0         3.0   \n",
       "\n",
       "                B000MTRTTE  B000Q032UY  B000JJKRKK  140004006X  B000OVMUX0  \\\n",
       "user_id                                                                      \n",
       "AWLFVCT9128JV          0.0         5.0         0.0         0.0         3.0   \n",
       "A3IKBHODOTYYHM         0.0         0.0         0.0         0.0         0.0   \n",
       "A3KF4IP2MUS8QQ         0.0         0.0         0.0         0.0         0.0   \n",
       "A20EEWWSFMZ1PN         0.0         5.0         0.0         0.0         0.0   \n",
       "A96K1ZGW56S2I          0.0         0.0         0.0         0.0         0.0   \n",
       "\n",
       "                B000P91JYW  \n",
       "user_id                     \n",
       "AWLFVCT9128JV          5.0  \n",
       "A3IKBHODOTYYHM         4.0  \n",
       "A3KF4IP2MUS8QQ         0.0  \n",
       "A20EEWWSFMZ1PN         0.0  \n",
       "A96K1ZGW56S2I          0.0  \n",
       "\n",
       "[5 rows x 842 columns]"
      ]
     },
     "execution_count": 148,
     "metadata": {},
     "output_type": "execute_result"
    }
   ],
   "source": [
    "similar_users = similar_users.replace([None],0)\n",
    "similar_users = similar_users.set_index('user_id')\n",
    "similar_users.head()"
   ]
  },
  {
   "cell_type": "code",
   "execution_count": 156,
   "id": "1bfac3e8-e2cd-4820-8eed-a949ab1ee5db",
   "metadata": {},
   "outputs": [],
   "source": [
    "similar_users['cos_similarity'] = 0.0\n",
    "for user in similar_users.index:\n",
    "    cos = cosine_similarity(similar_users.loc[user_id].values.reshape(1, -1), similar_users.loc[user].values.reshape(1, -1))\n",
    "    similar_users['cos_similarity'][user] = cos "
   ]
  },
  {
   "cell_type": "code",
   "execution_count": 159,
   "id": "d78b9f5b-b868-4963-b20f-af1c5f0865fb",
   "metadata": {},
   "outputs": [
    {
     "data": {
      "text/plain": [
       "user_id\n",
       "A2RPIGO3G4M6GN    1.000000\n",
       "A3NIQK6ZLYEP1L    0.316150\n",
       "A2F3M93RRLFQNJ    0.278061\n",
       "A2CR57GAJKNWVV    0.276686\n",
       "A1XTWXIMUCDGQE    0.274022\n",
       "A3QVAKVRAH657N    0.236385\n",
       "A30KEXFT9SILL6    0.215502\n",
       "A2B9Y0WXNSN17U    0.203007\n",
       "A32ZKBXJJ45BRY    0.188052\n",
       "A17FLA8HQOFVIG    0.187384\n",
       "A3R19YKNL641X3    0.186993\n",
       "A1LVZOK9F7K4CN    0.185526\n",
       "A96K1ZGW56S2I     0.169151\n",
       "AWLFVCT9128JV     0.161931\n",
       "AU6DIIDZK2OQM     0.161303\n",
       "A3OH101U0CPUC7    0.160715\n",
       "A370Z6I5GBWU44    0.156761\n",
       "A3KF4IP2MUS8QQ    0.149478\n",
       "A1X8VZWTOG8IS6    0.144562\n",
       "A2E3GFHUDNPYDH    0.144086\n",
       "A2S166WSCFIFP5    0.139463\n",
       "A3OJFPKMCXKOM0    0.134318\n",
       "A29NUB3P6YIWZG    0.128015\n",
       "A1EKTLUL24HDG8    0.123467\n",
       "A20EEWWSFMZ1PN    0.113986\n",
       "A12A08OL0TZY0W    0.106900\n",
       "AFYYHRPSFBLWS     0.105773\n",
       "A1DYXCF4148PJT    0.092632\n",
       "A1CHM200OEN65X    0.092435\n",
       "A2EENLV6OQ3DYM    0.091516\n",
       "AUTBHG6070SL4     0.090149\n",
       "A1IU7S4HCK1XK0    0.089583\n",
       "A2NJO6YE954DBH    0.088918\n",
       "A2NTJUI2DLZF4R    0.088656\n",
       "A32VWSQ0FPZKZ3    0.075567\n",
       "A36K2N527TXXJN    0.070635\n",
       "A1S3C5OFU508P3    0.069953\n",
       "A3R8PXSFGY9MC2    0.068786\n",
       "A222LQEPE7O7BV    0.064166\n",
       "AI37YX1U4KB1L     0.059890\n",
       "A1E2NA2F4RTQ9B    0.055482\n",
       "A2V3P1XE33NYC3    0.054758\n",
       "A1ZDWD35AZL3S     0.054210\n",
       "A3IKBHODOTYYHM    0.053057\n",
       "A2O9HU1K7TCF7B    0.049551\n",
       "A3MV1KKHX51FYT    0.048431\n",
       "A1JTG5X4VHJV27    0.048371\n",
       "AJQ1S39GZBKUG     0.048330\n",
       "A3O2RCKAMSE9X7    0.041205\n",
       "A22DUZU3XVA8HA    0.037849\n",
       "Name: cos_similarity, dtype: float64"
      ]
     },
     "execution_count": 159,
     "metadata": {},
     "output_type": "execute_result"
    }
   ],
   "source": [
    "similar_users['cos_similarity'].sort_values(ascending=False)"
   ]
  }
 ],
 "metadata": {
  "kernelspec": {
   "display_name": "Python 3 (ipykernel)",
   "language": "python",
   "name": "python3"
  },
  "language_info": {
   "codemirror_mode": {
    "name": "ipython",
    "version": 3
   },
   "file_extension": ".py",
   "mimetype": "text/x-python",
   "name": "python",
   "nbconvert_exporter": "python",
   "pygments_lexer": "ipython3",
   "version": "3.9.12"
  }
 },
 "nbformat": 4,
 "nbformat_minor": 5
}
